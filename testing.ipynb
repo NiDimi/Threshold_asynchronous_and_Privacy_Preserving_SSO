{
 "cells": [
  {
   "cell_type": "code",
   "execution_count": 47,
   "outputs": [],
   "source": [
    "from bplib.bp import BpGroup\n",
    "from hashlib import sha256\n",
    "from petlib.bn import Bn"
   ],
   "metadata": {
    "collapsed": false
   }
  },
  {
   "cell_type": "code",
   "execution_count": 20,
   "outputs": [],
   "source": [
    "#Setup\n",
    "G = BpGroup()\n",
    "g1, g2 = G.gen1(), G.gen2()\n",
    "e, o = G.pair, G.order()"
   ],
   "metadata": {
    "collapsed": false
   }
  },
  {
   "cell_type": "code",
   "execution_count": 27,
   "outputs": [],
   "source": [
    "#Keygen\n",
    "x,y = o.random(), o.random()\n",
    "sk = (x,y)\n",
    "pk = (g2, x*g2, y *g2)"
   ],
   "metadata": {
    "collapsed": false
   }
  },
  {
   "cell_type": "code",
   "execution_count": 56,
   "outputs": [],
   "source": [
    "# Sign\n",
    "m = Bn.from_binary(sha256(b\"Hello World!\").digest())\n",
    "h = o.random() * g1\n",
    "sig = (h, h *(x+y*m))"
   ],
   "metadata": {
    "collapsed": false
   }
  },
  {
   "cell_type": "code",
   "execution_count": 86,
   "outputs": [],
   "source": [
    "# Verify\n",
    "m = Bn.from_binary(sha256(b\"Hello World!\").digest())\n",
    "sig1, sig2 = sig\n",
    "# Test for randomness\n",
    "t = o.random()\n",
    "sig1 = sig1 * t\n",
    "sig2 = sig2 * t\n",
    "(g, X, Y) = pk\n",
    "result = not sig1.isinf() and e(sig1, X + Y*m) == e(sig2, g)"
   ],
   "metadata": {
    "collapsed": false
   }
  },
  {
   "cell_type": "code",
   "execution_count": 87,
   "outputs": [
    {
     "data": {
      "text/plain": "True"
     },
     "execution_count": 87,
     "metadata": {},
     "output_type": "execute_result"
    }
   ],
   "source": [
    "result"
   ],
   "metadata": {
    "collapsed": false
   }
  },
  {
   "cell_type": "code",
   "execution_count": 74,
   "outputs": [
    {
     "data": {
      "text/plain": "<bplib.bp.G2Elem at 0x7fb8eb34dbd0>"
     },
     "execution_count": 74,
     "metadata": {},
     "output_type": "execute_result"
    }
   ],
   "source": [],
   "metadata": {
    "collapsed": false
   }
  }
 ],
 "metadata": {
  "kernelspec": {
   "display_name": "Python 3",
   "language": "python",
   "name": "python3"
  },
  "language_info": {
   "codemirror_mode": {
    "name": "ipython",
    "version": 2
   },
   "file_extension": ".py",
   "mimetype": "text/x-python",
   "name": "python",
   "nbconvert_exporter": "python",
   "pygments_lexer": "ipython2",
   "version": "2.7.6"
  }
 },
 "nbformat": 4,
 "nbformat_minor": 0
}
