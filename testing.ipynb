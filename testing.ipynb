{
 "cells": [
  {
   "cell_type": "code",
   "execution_count": 2,
   "outputs": [],
   "source": [
    "from bplib.bp import BpGroup\n",
    "from hashlib import sha256\n",
    "from petlib.bn import Bn"
   ],
   "metadata": {
    "collapsed": false
   }
  },
  {
   "cell_type": "code",
   "execution_count": 3,
   "outputs": [],
   "source": [
    "#Setup\n",
    "G = BpGroup(nid=1)\n",
    "g1, g2 = G.gen1(), G.gen2()\n",
    "e, o = G.pair, G.order()"
   ],
   "metadata": {
    "collapsed": false
   }
  },
  {
   "cell_type": "code",
   "execution_count": 4,
   "outputs": [],
   "source": [
    "#Keygen\n",
    "x,y = o.random(), o.random()\n",
    "sk = (x,y)\n",
    "pk = (g2, x*g2, y *g2)"
   ],
   "metadata": {
    "collapsed": false
   }
  },
  {
   "cell_type": "code",
   "execution_count": 5,
   "outputs": [],
   "source": [
    "# Sign\n",
    "m = Bn.from_binary(sha256(b\"Hello World!\").digest())\n",
    "h = o.random() * g1\n",
    "sig = (h, h *(x+y*m))"
   ],
   "metadata": {
    "collapsed": false
   }
  },
  {
   "cell_type": "code",
   "execution_count": 6,
   "outputs": [],
   "source": [
    "# Verify\n",
    "m = Bn.from_binary(sha256(b\"Hello World!\").digest())\n",
    "sig1, sig2 = sig\n",
    "# Test for randomness\n",
    "t = o.random()\n",
    "sig1 = sig1 * t\n",
    "sig2 = sig2 * t\n",
    "(g, X, Y) = pk\n",
    "result = not sig1.isinf() and e(sig1, X + Y*m) == e(sig2, g)"
   ],
   "metadata": {
    "collapsed": false
   }
  },
  {
   "cell_type": "code",
   "execution_count": 7,
   "outputs": [
    {
     "data": {
      "text/plain": "True"
     },
     "execution_count": 7,
     "metadata": {},
     "output_type": "execute_result"
    }
   ],
   "source": [
    "result"
   ],
   "metadata": {
    "collapsed": false
   }
  },
  {
   "cell_type": "code",
   "execution_count": 10,
   "outputs": [
    {
     "ename": "AttributeError",
     "evalue": "'G1Elem' object has no attribute 'bn'",
     "output_type": "error",
     "traceback": [
      "\u001B[0;31m---------------------------------------------------------------------------\u001B[0m",
      "\u001B[0;31mAttributeError\u001B[0m                            Traceback (most recent call last)",
      "Cell \u001B[0;32mIn [10], line 1\u001B[0m\n\u001B[0;32m----> 1\u001B[0m \u001B[43msig1\u001B[49m\u001B[38;5;241;43m.\u001B[39;49m\u001B[43mbn\u001B[49m\n",
      "\u001B[0;31mAttributeError\u001B[0m: 'G1Elem' object has no attribute 'bn'"
     ]
    }
   ],
   "source": [
    "sig1.bn"
   ],
   "metadata": {
    "collapsed": false
   }
  },
  {
   "cell_type": "code",
   "execution_count": 7,
   "outputs": [],
   "source": [],
   "metadata": {
    "collapsed": false
   }
  },
  {
   "cell_type": "code",
   "execution_count": 7,
   "outputs": [],
   "source": [],
   "metadata": {
    "collapsed": false
   }
  }
 ],
 "metadata": {
  "kernelspec": {
   "display_name": "Python 3",
   "language": "python",
   "name": "python3"
  },
  "language_info": {
   "codemirror_mode": {
    "name": "ipython",
    "version": 2
   },
   "file_extension": ".py",
   "mimetype": "text/x-python",
   "name": "python",
   "nbconvert_exporter": "python",
   "pygments_lexer": "ipython2",
   "version": "2.7.6"
  }
 },
 "nbformat": 4,
 "nbformat_minor": 0
}
