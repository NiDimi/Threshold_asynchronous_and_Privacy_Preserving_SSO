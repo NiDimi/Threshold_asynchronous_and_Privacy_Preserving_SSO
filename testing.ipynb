{
 "cells": [
  {
   "cell_type": "code",
   "execution_count": 74,
   "outputs": [
    {
     "name": "stdout",
     "output_type": "stream",
     "text": [
      "The signature is valid: True\n",
      "The signature with proof of possession is valid: True\n"
     ]
    }
   ],
   "source": [
    "from py_ecc.bls import G2Basic, G2ProofOfPossession as G2PoP\n",
    "from hashlib import sha256\n",
    "from py_ecc.bls import G2Basic, G2ProofOfPossession as G2PoP, G2MessageAugmentation\n",
    "from hashlib import sha256\n",
    "\n",
    "# This is a BLS library example with py_ecc\n",
    "\n",
    "# G2Basic is a class for basic BLS signatures, without proof of possession.\n",
    "# G2PoP is a class that includes a proof of possession.\n",
    "\n",
    "import os\n",
    "ikm = os.urandom(32)\n",
    "private_key = G2Basic.KeyGen(ikm)\n",
    "\n",
    "# Derive the public key from the private key\n",
    "public_key = G2Basic.SkToPk(private_key)\n",
    "G2Basic.KeyGen()\n",
    "\n",
    "# Message to be signed\n",
    "message = b\"This is a message to be signed\"\n",
    "\n",
    "# Hash the message\n",
    "message_hash = sha256(message).digest()\n",
    "\n",
    "# Sign the message\n",
    "signature = G2Basic.Sign(private_key, message_hash)\n",
    "\n",
    "# Verify the signature\n",
    "is_valid_signature = G2Basic.Verify(public_key, message_hash, signature)\n",
    "\n",
    "print(f\"The signature is valid: {is_valid_signature}\")\n",
    "\n",
    "# Now using proof of possession\n",
    "\n",
    "# Generate a proof of possession signature\n",
    "pop_signature = G2PoP.PopProve(private_key)\n",
    "\n",
    "# Verify the proof of possession\n",
    "is_valid_pop = G2PoP.PopVerify(public_key, pop_signature)\n",
    "\n",
    "# Sign the message with proof of possession\n",
    "pop_signature_message = G2PoP.Sign(private_key, message_hash)\n",
    "\n",
    "# Verify the signature with proof of possession\n",
    "is_valid_signature_with_pop = G2PoP.Verify(public_key, message_hash, pop_signature_message)\n",
    "\n",
    "print(f\"The signature with proof of possession is valid: {is_valid_signature_with_pop}\")\n"
   ],
   "metadata": {
    "collapsed": false
   }
  },
  {
   "cell_type": "code",
   "execution_count": 76,
   "outputs": [
    {
     "data": {
      "text/plain": "446996943666083214431397693192653978999195030475617806392663627703475225813"
     },
     "execution_count": 76,
     "metadata": {},
     "output_type": "execute_result"
    }
   ],
   "source": [
    "import os\n",
    "ikm = os.urandom(32)\n",
    "G2Basic.KeyGen(ikm)"
   ],
   "metadata": {
    "collapsed": false
   }
  },
  {
   "cell_type": "code",
   "execution_count": null,
   "outputs": [],
   "source": [],
   "metadata": {
    "collapsed": false
   }
  }
 ],
 "metadata": {
  "kernelspec": {
   "display_name": "Python 3",
   "language": "python",
   "name": "python3"
  },
  "language_info": {
   "codemirror_mode": {
    "name": "ipython",
    "version": 2
   },
   "file_extension": ".py",
   "mimetype": "text/x-python",
   "name": "python",
   "nbconvert_exporter": "python",
   "pygments_lexer": "ipython2",
   "version": "2.7.6"
  }
 },
 "nbformat": 4,
 "nbformat_minor": 0
}
