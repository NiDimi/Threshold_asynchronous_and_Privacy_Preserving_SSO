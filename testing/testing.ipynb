{
 "cells": [
  {
   "cell_type": "code",
   "execution_count": 1,
   "outputs": [],
   "source": [
    "from bplib.bp import BpGroup\n",
    "from hashlib import sha256\n",
    "from petlib.bn import Bn"
   ],
   "metadata": {
    "collapsed": false
   }
  },
  {
   "cell_type": "code",
   "execution_count": 2,
   "outputs": [],
   "source": [
    "#Setup\n",
    "G = BpGroup(nid=1)\n",
    "g1, g2 = G.gen1(), G.gen2()\n",
    "e, o = G.pair, G.order()"
   ],
   "metadata": {
    "collapsed": false
   }
  },
  {
   "cell_type": "code",
   "execution_count": 3,
   "outputs": [],
   "source": [
    "#Keygen\n",
    "x,y = o.random(), o.random()\n",
    "sk = (x,y)\n",
    "pk = (g2, x*g2, y *g2)"
   ],
   "metadata": {
    "collapsed": false
   }
  },
  {
   "cell_type": "code",
   "execution_count": 4,
   "outputs": [],
   "source": [
    "# Sign\n",
    "m = Bn.from_binary(sha256(b\"Hello World!\").digest())\n",
    "h = o.random() * g1\n",
    "sig = (h, h *(x+y*m))"
   ],
   "metadata": {
    "collapsed": false
   }
  },
  {
   "cell_type": "code",
   "execution_count": 5,
   "outputs": [],
   "source": [
    "# Verify\n",
    "m = Bn.from_binary(sha256(b\"Hello World!\").digest())\n",
    "sig1, sig2 = sig\n",
    "# Test for randomness\n",
    "t = o.random()\n",
    "sig1 = sig1 * t\n",
    "sig2 = sig2 * t\n",
    "(g, X, Y) = pk\n",
    "result = not sig1.isinf() and e(sig1, X + Y*m) == e(sig2, g)"
   ],
   "metadata": {
    "collapsed": false
   }
  },
  {
   "cell_type": "code",
   "execution_count": 6,
   "outputs": [
    {
     "data": {
      "text/plain": "True"
     },
     "execution_count": 6,
     "metadata": {},
     "output_type": "execute_result"
    }
   ],
   "source": [
    "result"
   ],
   "metadata": {
    "collapsed": false
   }
  },
  {
   "cell_type": "code",
   "execution_count": 7,
   "outputs": [
    {
     "data": {
      "text/plain": "72908261242943370709801122572130333342600215990623321695708078033965798422808"
     },
     "execution_count": 7,
     "metadata": {},
     "output_type": "execute_result"
    }
   ],
   "source": [
    "from typing import List, Tuple\n",
    "attributes: List[Tuple[bytes, bool]] = [\n",
    "    (b\"secre1\", True),\n",
    "    (b\"secre2\", True),\n",
    "    (b\"plain1\", False)]\n",
    "Bn.from_binary(sha256(attributes[0][0]).digest())"
   ],
   "metadata": {
    "collapsed": false
   }
  },
  {
   "cell_type": "code",
   "execution_count": 8,
   "outputs": [
    {
     "data": {
      "text/plain": "<bplib.bp.G1Elem at 0x7ff6cee8d550>"
     },
     "execution_count": 8,
     "metadata": {},
     "output_type": "execute_result"
    }
   ],
   "source": [
    "t1 = G.hashG1(attributes[0][0])\n",
    "t2 = G.hashG1(attributes[1][0])\n",
    "h1 = sha256(attributes[1][0])\n",
    "# attributes= []\n",
    "# attributes.append([b'secret'][True])\n",
    "# attributes.append([b'sec',True])\n",
    "g1 * Bn.from_binary(h1.digest())"
   ],
   "metadata": {
    "collapsed": false
   }
  },
  {
   "cell_type": "code",
   "execution_count": 9,
   "outputs": [
    {
     "ename": "ModuleNotFoundError",
     "evalue": "No module named 'idp'",
     "output_type": "error",
     "traceback": [
      "\u001B[0;31m---------------------------------------------------------------------------\u001B[0m",
      "\u001B[0;31mModuleNotFoundError\u001B[0m                       Traceback (most recent call last)",
      "Cell \u001B[0;32mIn [9], line 1\u001B[0m\n\u001B[0;32m----> 1\u001B[0m \u001B[38;5;28;01mfrom\u001B[39;00m \u001B[38;5;21;01midp\u001B[39;00m \u001B[38;5;28;01mimport\u001B[39;00m IdP\n\u001B[1;32m      2\u001B[0m \u001B[38;5;28;01mfrom\u001B[39;00m \u001B[38;5;21;01mclient\u001B[39;00m \u001B[38;5;28;01mimport\u001B[39;00m Client\n\u001B[1;32m      3\u001B[0m \u001B[38;5;28;01mfrom\u001B[39;00m \u001B[38;5;21;01mhelperBpGroup\u001B[39;00m \u001B[38;5;28;01mimport\u001B[39;00m HelperBpGroup\n",
      "\u001B[0;31mModuleNotFoundError\u001B[0m: No module named 'idp'"
     ]
    }
   ],
   "source": [
    "from idp import IdP\n",
    "from client import Client\n",
    "from helperBpGroup import HelperBpGroup\n",
    "HelperBpGroup.setup()\n",
    "idp = IdP(3)\n",
    "pk = idp.keygen()\n",
    "client = Client(pk)\n",
    "client.request_id(attributes, b\"Hello\")"
   ],
   "metadata": {
    "collapsed": false
   }
  },
  {
   "cell_type": "code",
   "execution_count": null,
   "outputs": [],
   "source": [
    "id(pk)"
   ],
   "metadata": {
    "collapsed": false
   }
  },
  {
   "cell_type": "code",
   "execution_count": null,
   "outputs": [],
   "source": [
    "test = \"\""
   ],
   "metadata": {
    "collapsed": false
   }
  },
  {
   "cell_type": "code",
   "execution_count": null,
   "outputs": [],
   "source": [
    "test == \"\""
   ],
   "metadata": {
    "collapsed": false
   }
  },
  {
   "cell_type": "code",
   "execution_count": null,
   "outputs": [],
   "source": [
    "from typing import List, Tuple\n",
    "\n",
    "attributes: List[Tuple[bytes, bool]] = [\n",
    "    (b\"secre1\", True),\n",
    "    (b\"secre2\", True),\n",
    "    (b\"plain1\", False)]\n",
    "len(attributes)"
   ],
   "metadata": {
    "collapsed": false
   }
  },
  {
   "cell_type": "code",
   "execution_count": null,
   "outputs": [],
   "source": [
    "type(g1)"
   ],
   "metadata": {
    "collapsed": false
   }
  },
  {
   "cell_type": "code",
   "execution_count": 3,
   "outputs": [],
   "source": [
    "from bplib.bp import BpGroup\n",
    "\n",
    "G = BpGroup(nid=1)"
   ],
   "metadata": {
    "collapsed": false
   }
  },
  {
   "cell_type": "code",
   "execution_count": 15,
   "outputs": [],
   "source": [
    "G = BpGroup()\n",
    "g1, g2 = G.gen1(), G.gen2()\n",
    "e, o = G.pair, G.order()\n",
    "t = o.random()\n",
    "g1_e, g1_ep = g1 * o.random(), g1 * o.random()\n",
    "g2_e, g2_ep = g2 * o.random(), g2 * o.random()"
   ],
   "metadata": {
    "collapsed": false
   }
  },
  {
   "cell_type": "code",
   "execution_count": 38,
   "outputs": [],
   "source": [
    "e_e = e(g1_e,g2_e)\n",
    "e_ep = e(g1_ep, g2_e)"
   ],
   "metadata": {
    "collapsed": false
   }
  },
  {
   "cell_type": "code",
   "execution_count": 39,
   "outputs": [],
   "source": [
    "final = e_e * e_ep"
   ],
   "metadata": {
    "collapsed": false
   }
  },
  {
   "cell_type": "code",
   "execution_count": 40,
   "outputs": [
    {
     "data": {
      "text/plain": "True"
     },
     "execution_count": 40,
     "metadata": {},
     "output_type": "execute_result"
    }
   ],
   "source": [
    "e(g1, 6*g2) == e(g1, g2)**6"
   ],
   "metadata": {
    "collapsed": false
   }
  },
  {
   "cell_type": "code",
   "execution_count": 41,
   "outputs": [
    {
     "data": {
      "text/plain": "True"
     },
     "execution_count": 41,
     "metadata": {},
     "output_type": "execute_result"
    }
   ],
   "source": [
    "final == e(g1_e +g1_ep, g2_e )"
   ],
   "metadata": {
    "collapsed": false
   }
  },
  {
   "cell_type": "code",
   "execution_count": 25,
   "outputs": [],
   "source": [
    "print()"
   ],
   "metadata": {
    "collapsed": false
   }
  }
 ],
 "metadata": {
  "kernelspec": {
   "display_name": "Python 3",
   "language": "python",
   "name": "python3"
  },
  "language_info": {
   "codemirror_mode": {
    "name": "ipython",
    "version": 2
   },
   "file_extension": ".py",
   "mimetype": "text/x-python",
   "name": "python",
   "nbconvert_exporter": "python",
   "pygments_lexer": "ipython2",
   "version": "2.7.6"
  }
 },
 "nbformat": 4,
 "nbformat_minor": 0
}
