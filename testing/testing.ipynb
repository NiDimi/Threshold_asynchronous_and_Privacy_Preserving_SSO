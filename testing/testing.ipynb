{
 "cells": [
  {
   "cell_type": "code",
   "execution_count": 9,
   "outputs": [],
   "source": [
    "from bplib.bp import BpGroup\n",
    "from hashlib import sha256\n",
    "from petlib.bn import Bn"
   ],
   "metadata": {
    "collapsed": false
   }
  },
  {
   "cell_type": "code",
   "execution_count": 10,
   "outputs": [],
   "source": [
    "#Setup\n",
    "G = BpGroup(nid=1)\n",
    "g1, g2 = G.gen1(), G.gen2()\n",
    "e, o = G.pair, G.order()"
   ],
   "metadata": {
    "collapsed": false
   }
  },
  {
   "cell_type": "code",
   "execution_count": 11,
   "outputs": [],
   "source": [
    "#Keygen\n",
    "x,y = o.random(), o.random()\n",
    "sk = (x,y)\n",
    "pk = (g2, x*g2, y *g2)"
   ],
   "metadata": {
    "collapsed": false
   }
  },
  {
   "cell_type": "code",
   "execution_count": 12,
   "outputs": [],
   "source": [
    "# Sign\n",
    "m = Bn.from_binary(sha256(b\"Hello World!\").digest())\n",
    "h = o.random() * g1\n",
    "sig = (h, h *(x+y*m))"
   ],
   "metadata": {
    "collapsed": false
   }
  },
  {
   "cell_type": "code",
   "execution_count": 13,
   "outputs": [],
   "source": [
    "# Verify\n",
    "m = Bn.from_binary(sha256(b\"Hello World!\").digest())\n",
    "sig1, sig2 = sig\n",
    "# Test for randomness\n",
    "t = o.random()\n",
    "sig1 = sig1 * t\n",
    "sig2 = sig2 * t\n",
    "(g, X, Y) = pk\n",
    "result = not sig1.isinf() and e(sig1, X + Y*m) == e(sig2, g)"
   ],
   "metadata": {
    "collapsed": false
   }
  },
  {
   "cell_type": "code",
   "execution_count": 14,
   "outputs": [
    {
     "data": {
      "text/plain": "True"
     },
     "execution_count": 14,
     "metadata": {},
     "output_type": "execute_result"
    }
   ],
   "source": [
    "result"
   ],
   "metadata": {
    "collapsed": false
   }
  },
  {
   "cell_type": "code",
   "execution_count": 15,
   "outputs": [
    {
     "data": {
      "text/plain": "72908261242943370709801122572130333342600215990623321695708078033965798422808"
     },
     "execution_count": 15,
     "metadata": {},
     "output_type": "execute_result"
    }
   ],
   "source": [
    "from typing import List, Tuple\n",
    "attributes: List[Tuple[bytes, bool]] = [\n",
    "    (b\"secre1\", True),\n",
    "    (b\"secre2\", True),\n",
    "    (b\"plain1\", False)]\n",
    "Bn.from_binary(sha256(attributes[0][0]).digest())"
   ],
   "metadata": {
    "collapsed": false
   }
  },
  {
   "cell_type": "code",
   "execution_count": 16,
   "outputs": [
    {
     "data": {
      "text/plain": "<bplib.bp.G1Elem at 0x7f6ee1e6f510>"
     },
     "execution_count": 16,
     "metadata": {},
     "output_type": "execute_result"
    }
   ],
   "source": [
    "t1 = G.hashG1(attributes[0][0])\n",
    "t2 = G.hashG1(attributes[1][0])\n",
    "h1 = sha256(attributes[1][0])\n",
    "# attributes= []\n",
    "# attributes.append([b'secret'][True])\n",
    "# attributes.append([b'sec',True])\n",
    "g1 * Bn.from_binary(h1.digest())"
   ],
   "metadata": {
    "collapsed": false
   }
  },
  {
   "cell_type": "code",
   "execution_count": 17,
   "outputs": [
    {
     "ename": "ModuleNotFoundError",
     "evalue": "No module named 'helperBpGroup'",
     "output_type": "error",
     "traceback": [
      "\u001B[0;31m---------------------------------------------------------------------------\u001B[0m",
      "\u001B[0;31mModuleNotFoundError\u001B[0m                       Traceback (most recent call last)",
      "Cell \u001B[0;32mIn [17], line 3\u001B[0m\n\u001B[1;32m      1\u001B[0m \u001B[38;5;28;01mfrom\u001B[39;00m \u001B[38;5;21;01midp\u001B[39;00m \u001B[38;5;28;01mimport\u001B[39;00m IdP\n\u001B[1;32m      2\u001B[0m \u001B[38;5;28;01mfrom\u001B[39;00m \u001B[38;5;21;01mclient\u001B[39;00m \u001B[38;5;28;01mimport\u001B[39;00m Client\n\u001B[0;32m----> 3\u001B[0m \u001B[38;5;28;01mfrom\u001B[39;00m \u001B[38;5;21;01mhelperBpGroup\u001B[39;00m \u001B[38;5;28;01mimport\u001B[39;00m HelperBpGroup\n\u001B[1;32m      4\u001B[0m HelperBpGroup\u001B[38;5;241m.\u001B[39msetup()\n\u001B[1;32m      5\u001B[0m idp \u001B[38;5;241m=\u001B[39m IdP(\u001B[38;5;241m3\u001B[39m)\n",
      "\u001B[0;31mModuleNotFoundError\u001B[0m: No module named 'helperBpGroup'"
     ]
    }
   ],
   "source": [
    "from idp import IdP\n",
    "from client import Client\n",
    "from helperBpGroup import HelperBpGroup\n",
    "HelperBpGroup.setup()\n",
    "idp = IdP(3)\n",
    "pk = idp.keygen()\n",
    "client = Client(pk)\n",
    "client.request_id(attributes, b\"Hello\")"
   ],
   "metadata": {
    "collapsed": false
   }
  },
  {
   "cell_type": "code",
   "execution_count": null,
   "outputs": [],
   "source": [
    "id(pk)"
   ],
   "metadata": {
    "collapsed": false
   }
  },
  {
   "cell_type": "code",
   "execution_count": null,
   "outputs": [],
   "source": [
    "test = \"\""
   ],
   "metadata": {
    "collapsed": false
   }
  },
  {
   "cell_type": "code",
   "execution_count": null,
   "outputs": [],
   "source": [
    "test == \"\""
   ],
   "metadata": {
    "collapsed": false
   }
  },
  {
   "cell_type": "code",
   "execution_count": null,
   "outputs": [],
   "source": [
    "from typing import List, Tuple\n",
    "\n",
    "attributes: List[Tuple[bytes, bool]] = [\n",
    "    (b\"secre1\", True),\n",
    "    (b\"secre2\", True),\n",
    "    (b\"plain1\", False)]\n",
    "len(attributes)"
   ],
   "metadata": {
    "collapsed": false
   }
  },
  {
   "cell_type": "code",
   "execution_count": 18,
   "outputs": [
    {
     "data": {
      "text/plain": "bplib.bp.G1Elem"
     },
     "execution_count": 18,
     "metadata": {},
     "output_type": "execute_result"
    }
   ],
   "source": [
    "type(g1)"
   ],
   "metadata": {
    "collapsed": false
   }
  },
  {
   "cell_type": "code",
   "execution_count": null,
   "outputs": [],
   "source": [],
   "metadata": {
    "collapsed": false
   }
  }
 ],
 "metadata": {
  "kernelspec": {
   "display_name": "Python 3",
   "language": "python",
   "name": "python3"
  },
  "language_info": {
   "codemirror_mode": {
    "name": "ipython",
    "version": 2
   },
   "file_extension": ".py",
   "mimetype": "text/x-python",
   "name": "python",
   "nbconvert_exporter": "python",
   "pygments_lexer": "ipython2",
   "version": "2.7.6"
  }
 },
 "nbformat": 4,
 "nbformat_minor": 0
}
